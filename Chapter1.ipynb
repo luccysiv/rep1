{
 "cells": [
  {
   "cell_type": "markdown",
   "metadata": {},
   "source": [
    "# Chapter 1"
   ]
  },
  {
   "cell_type": "code",
   "execution_count": 1,
   "metadata": {},
   "outputs": [],
   "source": [
    "users = [\n",
    "    { \"id\": 0, \"name\": \"Hero\" },\n",
    "    { \"id\": 1, \"name\": \"Dunn\" },\n",
    "    { \"id\": 2, \"name\": \"Sue\" },\n",
    "    { \"id\": 3, \"name\": \"Chi\" },\n",
    "    { \"id\": 4, \"name\": \"Thor\" },\n",
    "    { \"id\": 5, \"name\": \"Clive\" },\n",
    "    { \"id\": 6, \"name\": \"Hicks\" },\n",
    "    { \"id\": 7, \"name\": \"Devin\" },\n",
    "    { \"id\": 8, \"name\": \"Kate\" },\n",
    "    { \"id\": 9, \"name\": \"Klein\" }\n",
    "]"
   ]
  },
  {
   "cell_type": "code",
   "execution_count": 2,
   "metadata": {},
   "outputs": [],
   "source": [
    "friendships = [(0, 1), (0, 2), (1, 2), (1, 3), (2, 3), (3, 4),\n",
    "                (4, 5), (5, 6), (5, 7), (6, 8), (7, 8), (8, 9)]"
   ]
  },
  {
   "cell_type": "code",
   "execution_count": 3,
   "metadata": {},
   "outputs": [],
   "source": [
    "for user in users:\n",
    "    user[\"friends\"] = []"
   ]
  },
  {
   "cell_type": "code",
   "execution_count": 4,
   "metadata": {},
   "outputs": [],
   "source": [
    "for i, j in friendships:\n",
    "    users[i][\"friends\"].append(users[j]) # add i as a friend of j\n",
    "    users[j][\"friends\"].append(users[i]) # add j as a friend of i"
   ]
  },
  {
   "cell_type": "code",
   "execution_count": 5,
   "metadata": {},
   "outputs": [],
   "source": [
    "def number_of_friends(user):\n",
    "    \"\"\"how many friends does _user_ have?\"\"\"\n",
    "    return len(user[\"friends\"])"
   ]
  },
  {
   "cell_type": "code",
   "execution_count": 6,
   "metadata": {},
   "outputs": [],
   "source": [
    "total_connections = sum(number_of_friends(user)\n",
    "                        for user in users)"
   ]
  },
  {
   "cell_type": "code",
   "execution_count": 7,
   "metadata": {},
   "outputs": [],
   "source": [
    "from __future__ import division # integer division is lame\n",
    "num_users = len(users) # length of the users list\n",
    "avg_connections = total_connections / num_users # 2.4"
   ]
  },
  {
   "cell_type": "code",
   "execution_count": 8,
   "metadata": {},
   "outputs": [],
   "source": [
    "# create a list (user_id, number_of_friends)\n",
    "num_friends_by_id = [(user[\"id\"], number_of_friends(user))\n",
    "                    for user in users]"
   ]
  },
  {
   "cell_type": "raw",
   "metadata": {},
   "source": [
    "sorted(num_friends_by_id, # get it sorted\n",
    "key=lambda (user_id, num_friends): num_friends, # by num_friends\n",
    "reverse=True)"
   ]
  },
  {
   "cell_type": "code",
   "execution_count": 9,
   "metadata": {},
   "outputs": [],
   "source": [
    "def friends_of_friend_ids_bad(user):\n",
    "    # \"foaf\" is short for \"friend of a friend\"\n",
    "    return [foaf[\"id\"]\n",
    "        for friend in user[\"friends\"] # for each of user's friends\n",
    "        for foaf in friend[\"friends\"]] # get each of _their_ friends"
   ]
  },
  {
   "cell_type": "code",
   "execution_count": 10,
   "metadata": {},
   "outputs": [
    {
     "data": {
      "text/plain": [
       "{'friends': [{'friends': [{...},\n",
       "    {'friends': [{...},\n",
       "      {...},\n",
       "      {'friends': [{...},\n",
       "        {...},\n",
       "        {'friends': [{...},\n",
       "          {'friends': [{...},\n",
       "            {'friends': [{...},\n",
       "              {'friends': [{...},\n",
       "                {'friends': [{...}, {...}], 'id': 7, 'name': 'Devin'},\n",
       "                {'friends': [{...}], 'id': 9, 'name': 'Klein'}],\n",
       "               'id': 8,\n",
       "               'name': 'Kate'}],\n",
       "             'id': 6,\n",
       "             'name': 'Hicks'},\n",
       "            {'friends': [{...},\n",
       "              {'friends': [{'friends': [{...}, {...}],\n",
       "                 'id': 6,\n",
       "                 'name': 'Hicks'},\n",
       "                {...},\n",
       "                {'friends': [{...}], 'id': 9, 'name': 'Klein'}],\n",
       "               'id': 8,\n",
       "               'name': 'Kate'}],\n",
       "             'id': 7,\n",
       "             'name': 'Devin'}],\n",
       "           'id': 5,\n",
       "           'name': 'Clive'}],\n",
       "         'id': 4,\n",
       "         'name': 'Thor'}],\n",
       "       'id': 3,\n",
       "       'name': 'Chi'}],\n",
       "     'id': 2,\n",
       "     'name': 'Sue'},\n",
       "    {'friends': [{...},\n",
       "      {'friends': [{...}, {...}, {...}], 'id': 2, 'name': 'Sue'},\n",
       "      {'friends': [{...},\n",
       "        {'friends': [{...},\n",
       "          {'friends': [{...},\n",
       "            {'friends': [{...},\n",
       "              {'friends': [{...}, {...}], 'id': 7, 'name': 'Devin'},\n",
       "              {'friends': [{...}], 'id': 9, 'name': 'Klein'}],\n",
       "             'id': 8,\n",
       "             'name': 'Kate'}],\n",
       "           'id': 6,\n",
       "           'name': 'Hicks'},\n",
       "          {'friends': [{...},\n",
       "            {'friends': [{'friends': [{...}, {...}], 'id': 6, 'name': 'Hicks'},\n",
       "              {...},\n",
       "              {'friends': [{...}], 'id': 9, 'name': 'Klein'}],\n",
       "             'id': 8,\n",
       "             'name': 'Kate'}],\n",
       "           'id': 7,\n",
       "           'name': 'Devin'}],\n",
       "         'id': 5,\n",
       "         'name': 'Clive'}],\n",
       "       'id': 4,\n",
       "       'name': 'Thor'}],\n",
       "     'id': 3,\n",
       "     'name': 'Chi'}],\n",
       "   'id': 1,\n",
       "   'name': 'Dunn'},\n",
       "  {'friends': [{...},\n",
       "    {'friends': [{...},\n",
       "      {...},\n",
       "      {'friends': [{...},\n",
       "        {...},\n",
       "        {'friends': [{...},\n",
       "          {'friends': [{...},\n",
       "            {'friends': [{...},\n",
       "              {'friends': [{...},\n",
       "                {'friends': [{...}, {...}], 'id': 7, 'name': 'Devin'},\n",
       "                {'friends': [{...}], 'id': 9, 'name': 'Klein'}],\n",
       "               'id': 8,\n",
       "               'name': 'Kate'}],\n",
       "             'id': 6,\n",
       "             'name': 'Hicks'},\n",
       "            {'friends': [{...},\n",
       "              {'friends': [{'friends': [{...}, {...}],\n",
       "                 'id': 6,\n",
       "                 'name': 'Hicks'},\n",
       "                {...},\n",
       "                {'friends': [{...}], 'id': 9, 'name': 'Klein'}],\n",
       "               'id': 8,\n",
       "               'name': 'Kate'}],\n",
       "             'id': 7,\n",
       "             'name': 'Devin'}],\n",
       "           'id': 5,\n",
       "           'name': 'Clive'}],\n",
       "         'id': 4,\n",
       "         'name': 'Thor'}],\n",
       "       'id': 3,\n",
       "       'name': 'Chi'}],\n",
       "     'id': 1,\n",
       "     'name': 'Dunn'},\n",
       "    {'friends': [{'friends': [{...}, {...}, {...}], 'id': 1, 'name': 'Dunn'},\n",
       "      {...},\n",
       "      {'friends': [{...},\n",
       "        {'friends': [{...},\n",
       "          {'friends': [{...},\n",
       "            {'friends': [{...},\n",
       "              {'friends': [{...}, {...}], 'id': 7, 'name': 'Devin'},\n",
       "              {'friends': [{...}], 'id': 9, 'name': 'Klein'}],\n",
       "             'id': 8,\n",
       "             'name': 'Kate'}],\n",
       "           'id': 6,\n",
       "           'name': 'Hicks'},\n",
       "          {'friends': [{...},\n",
       "            {'friends': [{'friends': [{...}, {...}], 'id': 6, 'name': 'Hicks'},\n",
       "              {...},\n",
       "              {'friends': [{...}], 'id': 9, 'name': 'Klein'}],\n",
       "             'id': 8,\n",
       "             'name': 'Kate'}],\n",
       "           'id': 7,\n",
       "           'name': 'Devin'}],\n",
       "         'id': 5,\n",
       "         'name': 'Clive'}],\n",
       "       'id': 4,\n",
       "       'name': 'Thor'}],\n",
       "     'id': 3,\n",
       "     'name': 'Chi'}],\n",
       "   'id': 2,\n",
       "   'name': 'Sue'}],\n",
       " 'id': 0,\n",
       " 'name': 'Hero'}"
      ]
     },
     "execution_count": 10,
     "metadata": {},
     "output_type": "execute_result"
    }
   ],
   "source": [
    "users[0]"
   ]
  },
  {
   "cell_type": "code",
   "execution_count": 11,
   "metadata": {},
   "outputs": [
    {
     "name": "stdout",
     "output_type": "stream",
     "text": [
      "[1, 2]\n",
      "[0, 2, 3]\n",
      "[0, 1, 3]\n"
     ]
    }
   ],
   "source": [
    "print [friend[\"id\"] for friend in users[0][\"friends\"]] # [1, 2]\n",
    "print [friend[\"id\"] for friend in users[1][\"friends\"]] # [0, 2, 3]\n",
    "print [friend[\"id\"] for friend in users[2][\"friends\"]] # [0, 1, 3]"
   ]
  },
  {
   "cell_type": "code",
   "execution_count": 12,
   "metadata": {},
   "outputs": [
    {
     "name": "stdout",
     "output_type": "stream",
     "text": [
      "Counter({0: 2, 5: 1})\n"
     ]
    }
   ],
   "source": [
    "from collections import Counter # not loaded by default\n",
    "def not_the_same(user, other_user):\n",
    "    \"\"\"two users are not the same if they have different ids\"\"\"\n",
    "    return user[\"id\"] != other_user[\"id\"]\n",
    "\n",
    "def not_friends(user, other_user):\n",
    "    \"\"\"other_user is not a friend if he's not in user[\"friends\"];\n",
    "    that is, if he's not_the_same as all the people in user[\"friends\"]\"\"\"\n",
    "    return all(not_the_same(friend, other_user)\n",
    "               for friend in user[\"friends\"])\n",
    "\n",
    "def friends_of_friend_ids(user):\n",
    "    return Counter(foaf[\"id\"]\n",
    "                    for friend in user[\"friends\"] # for each of my friends\n",
    "                    for foaf in friend[\"friends\"] # count *their* friends\n",
    "                    if not_the_same(user, foaf) # who aren't me\n",
    "                    and not_friends(user, foaf)) # and aren't my friends\n",
    "\n",
    "print friends_of_friend_ids(users[3]) # Counter({0: 2, 5: 1})"
   ]
  },
  {
   "cell_type": "code",
   "execution_count": 13,
   "metadata": {},
   "outputs": [],
   "source": [
    "interests = [\n",
    "    (0, \"Hadoop\"), (0, \"Big Data\"), (0, \"HBase\"), (0, \"Java\"),\n",
    "    (0, \"Spark\"), (0, \"Storm\"), (0, \"Cassandra\"),\n",
    "    (1, \"NoSQL\"), (1, \"MongoDB\"), (1, \"Cassandra\"), (1, \"HBase\"),\n",
    "    (1, \"Postgres\"), (2, \"Python\"), (2, \"scikit-learn\"), (2, \"scipy\"),\n",
    "    (2, \"numpy\"), (2, \"statsmodels\"), (2, \"pandas\"), (3, \"R\"), (3, \"Python\"),\n",
    "    (3, \"statistics\"), (3, \"regression\"), (3, \"probability\"),\n",
    "    (4, \"machine learning\"), (4, \"regression\"), (4, \"decision trees\"),\n",
    "    (4, \"libsvm\"), (5, \"Python\"), (5, \"R\"), (5, \"Java\"), (5, \"C++\"),\n",
    "    (5, \"Haskell\"), (5, \"programming languages\"), (6, \"statistics\"),\n",
    "    (6, \"probability\"), (6, \"mathematics\"), (6, \"theory\"),\n",
    "    (7, \"machine learning\"), (7, \"scikit-learn\"), (7, \"Mahout\"),\n",
    "    (7, \"neural networks\"), (8, \"neural networks\"), (8, \"deep learning\"),\n",
    "    (8, \"Big Data\"), (8, \"artificial intelligence\"), (9, \"Hadoop\"),\n",
    "    (9, \"Java\"), (9, \"MapReduce\"), (9, \"Big Data\")\n",
    "]"
   ]
  },
  {
   "cell_type": "code",
   "execution_count": 14,
   "metadata": {},
   "outputs": [],
   "source": [
    "def data_scientists_who_like(target_interest):\n",
    "    return [user_id\n",
    "        for user_id, user_interest in interests\n",
    "        if user_interest == target_interest]"
   ]
  },
  {
   "cell_type": "code",
   "execution_count": 15,
   "metadata": {},
   "outputs": [],
   "source": [
    "from collections import defaultdict\n",
    "\n",
    "# keys are interests, values are lists of user_ids with that interest\n",
    "user_ids_by_interest = defaultdict(list)\n",
    "\n",
    "for user_id, interest in interests:\n",
    "    user_ids_by_interest[interest].append(user_id)"
   ]
  },
  {
   "cell_type": "code",
   "execution_count": 16,
   "metadata": {},
   "outputs": [],
   "source": [
    "# keys are user_ids, values are lists of interests for that user_id\n",
    "interests_by_user_id = defaultdict(list)\n",
    "\n",
    "for user_id, interest in interests:\n",
    "    interests_by_user_id[user_id].append(interest)"
   ]
  },
  {
   "cell_type": "code",
   "execution_count": 17,
   "metadata": {},
   "outputs": [],
   "source": [
    "def most_common_interests_with(user):\n",
    "    return Counter(interested_user_id\n",
    "        for interest in interests_by_user_id[user[\"id\"]]\n",
    "        for interested_user_id in user_ids_by_interest[interest]\n",
    "        if interested_user_id != user[\"id\"])"
   ]
  },
  {
   "cell_type": "code",
   "execution_count": 18,
   "metadata": {},
   "outputs": [],
   "source": [
    "salaries_and_tenures = [(83000, 8.7), (88000, 8.1),\n",
    "                        (48000, 0.7), (76000, 6),\n",
    "                        (69000, 6.5), (76000, 7.5),\n",
    "                        (60000, 2.5), (83000, 10),\n",
    "                        (48000, 1.9), (63000, 4.2)]"
   ]
  },
  {
   "cell_type": "code",
   "execution_count": 19,
   "metadata": {},
   "outputs": [],
   "source": [
    "# keys are years, values are lists of the salaries for each tenure\n",
    "salary_by_tenure = defaultdict(list)\n",
    "\n",
    "for salary, tenure in salaries_and_tenures:\n",
    "    salary_by_tenure[tenure].append(salary)\n",
    "\n",
    "# keys are years, each value is average salary for that tenure\n",
    "average_salary_by_tenure = {\n",
    "    tenure : sum(salaries) / len(salaries)\n",
    "    for tenure, salaries in salary_by_tenure.items()\n",
    "}"
   ]
  },
  {
   "cell_type": "code",
   "execution_count": 20,
   "metadata": {},
   "outputs": [
    {
     "data": {
      "text/plain": [
       "{0.7: 48000.0,\n",
       " 1.9: 48000.0,\n",
       " 2.5: 60000.0,\n",
       " 4.2: 63000.0,\n",
       " 6: 76000.0,\n",
       " 6.5: 69000.0,\n",
       " 7.5: 76000.0,\n",
       " 8.1: 88000.0,\n",
       " 8.7: 83000.0,\n",
       " 10: 83000.0}"
      ]
     },
     "execution_count": 20,
     "metadata": {},
     "output_type": "execute_result"
    }
   ],
   "source": [
    "{0.7: 48000.0,\n",
    "1.9: 48000.0,\n",
    "2.5: 60000.0,\n",
    "4.2: 63000.0,\n",
    "6: 76000.0,\n",
    "6.5: 69000.0,\n",
    "7.5: 76000.0,\n",
    "8.1: 88000.0,\n",
    "8.7: 83000.0,\n",
    "10: 83000.0}"
   ]
  },
  {
   "cell_type": "code",
   "execution_count": 21,
   "metadata": {},
   "outputs": [],
   "source": [
    "def tenure_bucket(tenure):\n",
    "    if tenure < 2:\n",
    "        return \"less than two\"\n",
    "    elif tenure < 5:\n",
    "        return \"between two and five\"\n",
    "    else:\n",
    "        return \"more than five\""
   ]
  },
  {
   "cell_type": "code",
   "execution_count": 22,
   "metadata": {},
   "outputs": [],
   "source": [
    "# keys are tenure buckets, values are lists of salaries for that bucket\n",
    "salary_by_tenure_bucket = defaultdict(list)\n",
    "\n",
    "for salary, tenure in salaries_and_tenures:\n",
    "    bucket = tenure_bucket(tenure)\n",
    "    salary_by_tenure_bucket[bucket].append(salary)"
   ]
  },
  {
   "cell_type": "code",
   "execution_count": 23,
   "metadata": {},
   "outputs": [],
   "source": [
    "# keys are tenure buckets, values are average salary for that bucket\n",
    "average_salary_by_bucket = {\n",
    "    tenure_bucket : sum(salaries) / len(salaries)\n",
    "    for tenure_bucket, salaries in salary_by_tenure_bucket.iteritems()\n",
    "}"
   ]
  },
  {
   "cell_type": "code",
   "execution_count": 24,
   "metadata": {},
   "outputs": [
    {
     "data": {
      "text/plain": [
       "{'between two and five': 61500.0,\n",
       " 'less than two': 48000.0,\n",
       " 'more than five': 79166.66666666667}"
      ]
     },
     "execution_count": 24,
     "metadata": {},
     "output_type": "execute_result"
    }
   ],
   "source": [
    "{'between two and five': 61500.0,\n",
    "'less than two': 48000.0,\n",
    "'more than five': 79166.66666666667}"
   ]
  },
  {
   "cell_type": "code",
   "execution_count": 25,
   "metadata": {},
   "outputs": [],
   "source": [
    "def predict_paid_or_unpaid(years_experience):\n",
    "    if years_experience < 3.0:\n",
    "        return \"paid\"\n",
    "    elif years_experience < 8.5:\n",
    "        return \"unpaid\"\n",
    "    else:\n",
    "        return \"paid\""
   ]
  },
  {
   "cell_type": "code",
   "execution_count": 26,
   "metadata": {},
   "outputs": [],
   "source": [
    "interests = [\n",
    "        (0, \"Hadoop\"), (0, \"Big Data\"), (0, \"HBase\"), (0, \"Java\"),\n",
    "        (0, \"Spark\"), (0, \"Storm\"), (0, \"Cassandra\"),\n",
    "        (1, \"NoSQL\"), (1, \"MongoDB\"), (1, \"Cassandra\"), (1, \"HBase\"),\n",
    "        (1, \"Postgres\"), (2, \"Python\"), (2, \"scikit-learn\"), (2, \"scipy\"),\n",
    "        (2, \"numpy\"), (2, \"statsmodels\"), (2, \"pandas\"), (3, \"R\"), (3, \"Python\"),\n",
    "        (3, \"statistics\"), (3, \"regression\"), (3, \"probability\"),\n",
    "        (4, \"machine learning\"), (4, \"regression\"), (4, \"decision trees\"),\n",
    "        (4, \"libsvm\"), (5, \"Python\"), (5, \"R\"), (5, \"Java\"), (5, \"C++\"),\n",
    "        (5, \"Haskell\"), (5, \"programming languages\"), (6, \"statistics\"),\n",
    "        (6, \"probability\"), (6, \"mathematics\"), (6, \"theory\"),\n",
    "        (7, \"machine learning\"), (7, \"scikit-learn\"), (7, \"Mahout\"),\n",
    "        (7, \"neural networks\"), (8, \"neural networks\"), (8, \"deep learning\"),\n",
    "        (8, \"Big Data\"), (8, \"artificial intelligence\"), (9, \"Hadoop\"),\n",
    "        (9, \"Java\"), (9, \"MapReduce\"), (9, \"Big Data\")\n",
    "]"
   ]
  },
  {
   "cell_type": "code",
   "execution_count": 27,
   "metadata": {},
   "outputs": [],
   "source": [
    "words_and_counts = Counter(word\n",
    "                            for user, interest in interests\n",
    "                            for word in interest.lower().split())"
   ]
  },
  {
   "cell_type": "code",
   "execution_count": 28,
   "metadata": {},
   "outputs": [
    {
     "name": "stdout",
     "output_type": "stream",
     "text": [
      "learning 3\n",
      "java 3\n",
      "python 3\n",
      "big 3\n",
      "data 3\n",
      "hbase 2\n",
      "regression 2\n",
      "cassandra 2\n",
      "statistics 2\n",
      "probability 2\n",
      "hadoop 2\n",
      "networks 2\n",
      "machine 2\n",
      "neural 2\n",
      "scikit-learn 2\n",
      "r 2\n"
     ]
    }
   ],
   "source": [
    "for word, count in words_and_counts.most_common():\n",
    "    if count > 1:\n",
    "        print word, count"
   ]
  },
  {
   "cell_type": "code",
   "execution_count": null,
   "metadata": {},
   "outputs": [],
   "source": []
  }
 ],
 "metadata": {
  "kernelspec": {
   "display_name": "Python 2",
   "language": "python",
   "name": "python2"
  },
  "language_info": {
   "codemirror_mode": {
    "name": "ipython",
    "version": 2
   },
   "file_extension": ".py",
   "mimetype": "text/x-python",
   "name": "python",
   "nbconvert_exporter": "python",
   "pygments_lexer": "ipython2",
   "version": "2.7.14"
  }
 },
 "nbformat": 4,
 "nbformat_minor": 2
}